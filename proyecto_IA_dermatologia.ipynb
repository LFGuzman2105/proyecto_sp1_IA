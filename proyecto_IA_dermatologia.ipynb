{
  "nbformat": 4,
  "nbformat_minor": 0,
  "metadata": {
    "colab": {
      "provenance": [],
      "include_colab_link": true
    },
    "kernelspec": {
      "name": "python3",
      "display_name": "Python 3"
    },
    "language_info": {
      "name": "python"
    }
  },
  "cells": [
    {
      "cell_type": "markdown",
      "metadata": {
        "id": "view-in-github",
        "colab_type": "text"
      },
      "source": [
        "<a href=\"https://colab.research.google.com/github/LFGuzman2105/proyecto_sp1_IA/blob/modelo_1/proyecto_IA_dermatologia.ipynb\" target=\"_parent\"><img src=\"https://colab.research.google.com/assets/colab-badge.svg\" alt=\"Open In Colab\"/></a>"
      ]
    },
    {
      "cell_type": "code",
      "execution_count": 118,
      "metadata": {
        "id": "ryclOeocRYrK"
      },
      "outputs": [],
      "source": [
        "# ----- Libraries ----- #\n",
        "import os\n",
        "\n",
        "# This is the main Library that allows us to work with Neural Networks\n",
        "import tensorflow as tf\n",
        "\n",
        "# For graph plotting\n",
        "import matplotlib.pyplot as plt\n",
        "from tensorflow.math import confusion_matrix\n",
        "\n",
        "# For dataset manipulation\n",
        "import pandas as pd\n",
        "from sklearn.model_selection import train_test_split\n",
        "from sklearn.preprocessing import StandardScaler\n",
        "from sklearn.impute import SimpleImputer\n",
        "from imblearn.over_sampling import SMOTE\n",
        "import numpy as np\n",
        "\n",
        "# For visualizing more complex graphs\n",
        "import seaborn as sns\n",
        "\n",
        "# Global constant for training acceleration\n",
        "AUTOTUNE = tf.data.AUTOTUNE"
      ]
    },
    {
      "cell_type": "code",
      "source": [
        "'''\n",
        "The dataset you are going to use is the following:\n",
        "https://archive.ics.uci.edu/ml/datasets/Dermatology\n",
        "'''\n",
        "\n",
        "# Retrieve the dataset\n",
        "if not os.path.exists(\"dermatology.data\"):\n",
        "  !wget https://archive.ics.uci.edu/ml/machine-learning-databases/dermatology/dermatology.data"
      ],
      "metadata": {
        "id": "S3GTfE6_7dEn"
      },
      "execution_count": 119,
      "outputs": []
    },
    {
      "cell_type": "code",
      "source": [
        "# Retrieve the dataset\n",
        "if not os.path.exists(\"dermatology.names\"):\n",
        "  !wget https://archive.ics.uci.edu/ml/machine-learning-databases/dermatology/dermatology.names"
      ],
      "metadata": {
        "id": "PiD4wZsXLs78"
      },
      "execution_count": 120,
      "outputs": []
    },
    {
      "cell_type": "code",
      "source": [
        "# Loading Dataset and have a glimpse about it\n",
        "column_names = ['erythema',\n",
        "                'scaling',\n",
        "                'definite-borders',\n",
        "                'itching',\n",
        "                'koebner phenomenon',\n",
        "                'polygonal papules',\n",
        "                'follicular papules',\n",
        "                'oral-mucosal involvement',\n",
        "                'knee elbow involvement',\n",
        "                'scalp involvement',\n",
        "                'family history',\n",
        "                'melanin incontinence',\n",
        "                'eosinophils in the infiltrate',\n",
        "                'pnl infiltrate',\n",
        "                'fibrosis of the papillary dermis',\n",
        "                'exocytosis',\n",
        "                'acanthosis',\n",
        "                'hyperkeratosis',\n",
        "                'parakeratosis',\n",
        "                'clubbing of the rete ridges',\n",
        "                'elongation of the rete ridges',\n",
        "                'thinning of the suprapapillary epidermis',\n",
        "                'spongiform pustule',\n",
        "                'munro microabcess',\n",
        "                'focal hypergranulosis',\n",
        "                'disappearance of the granular layer',\n",
        "                'vacuolisation and damage of the basal layer',\n",
        "                'spongiosis',\n",
        "                'saw-tooth appearance of retes',\n",
        "                'follicular horn plug',\n",
        "                'perifollicular parakeratosis',\n",
        "                'inflammatory monoluclear infiltrate',\n",
        "                'band-like infiltrate',\n",
        "                'age',\n",
        "                'class']\n",
        "\n",
        "raw_dataset = pd.read_csv(\"dermatology.data\",\n",
        "                          names=column_names,\n",
        "                          header=None,\n",
        "                          na_values = \"?\")"
      ],
      "metadata": {
        "id": "ZR4_ocEvb5Ou"
      },
      "execution_count": 121,
      "outputs": []
    },
    {
      "cell_type": "code",
      "source": [
        "# Lets make a copy\n",
        "new_dataset = raw_dataset.copy()\n",
        "\n",
        "# Lets check for null values\n",
        "print(new_dataset.isna().sum())\n",
        "\n",
        "# Dropping null rows\n",
        "new_dataset = new_dataset.dropna()\n",
        "\n",
        "new_dataset['age'].fillna(new_dataset['age'].median(), inplace=True)"
      ],
      "metadata": {
        "colab": {
          "base_uri": "https://localhost:8080/"
        },
        "id": "PHIK6WtoFyTk",
        "outputId": "04dcf824-d9a6-446b-a685-9054642a823a"
      },
      "execution_count": 122,
      "outputs": [
        {
          "output_type": "stream",
          "name": "stdout",
          "text": [
            "erythema                                       0\n",
            "scaling                                        0\n",
            "definite-borders                               0\n",
            "itching                                        0\n",
            "koebner phenomenon                             0\n",
            "polygonal papules                              0\n",
            "follicular papules                             0\n",
            "oral-mucosal involvement                       0\n",
            "knee elbow involvement                         0\n",
            "scalp involvement                              0\n",
            "family history                                 0\n",
            "melanin incontinence                           0\n",
            "eosinophils in the infiltrate                  0\n",
            "pnl infiltrate                                 0\n",
            "fibrosis of the papillary dermis               0\n",
            "exocytosis                                     0\n",
            "acanthosis                                     0\n",
            "hyperkeratosis                                 0\n",
            "parakeratosis                                  0\n",
            "clubbing of the rete ridges                    0\n",
            "elongation of the rete ridges                  0\n",
            "thinning of the suprapapillary epidermis       0\n",
            "spongiform pustule                             0\n",
            "munro microabcess                              0\n",
            "focal hypergranulosis                          0\n",
            "disappearance of the granular layer            0\n",
            "vacuolisation and damage of the basal layer    0\n",
            "spongiosis                                     0\n",
            "saw-tooth appearance of retes                  0\n",
            "follicular horn plug                           0\n",
            "perifollicular parakeratosis                   0\n",
            "inflammatory monoluclear infiltrate            0\n",
            "band-like infiltrate                           0\n",
            "age                                            8\n",
            "class                                          0\n",
            "dtype: int64\n"
          ]
        },
        {
          "output_type": "stream",
          "name": "stderr",
          "text": [
            "<ipython-input-122-2b914d2ddd56>:10: FutureWarning: A value is trying to be set on a copy of a DataFrame or Series through chained assignment using an inplace method.\n",
            "The behavior will change in pandas 3.0. This inplace method will never work because the intermediate object on which we are setting values always behaves as a copy.\n",
            "\n",
            "For example, when doing 'df[col].method(value, inplace=True)', try using 'df.method({col: value}, inplace=True)' or df[col] = df[col].method(value) instead, to perform the operation inplace on the original object.\n",
            "\n",
            "\n",
            "  new_dataset['age'].fillna(new_dataset['age'].median(), inplace=True)\n"
          ]
        }
      ]
    },
    {
      "cell_type": "code",
      "source": [
        "imputer = SimpleImputer(strategy='mean')\n",
        "new_dataset.iloc[:, :-1] = imputer.fit_transform(new_dataset.iloc[:, :-1])\n",
        "\n",
        "independent_variables = imputer.fit_transform(new_dataset.drop('class', axis=1))\n",
        "dependent_variables = new_dataset['class'].astype(int)"
      ],
      "metadata": {
        "id": "vT_iY-ZepQmy"
      },
      "execution_count": 123,
      "outputs": []
    },
    {
      "cell_type": "code",
      "source": [
        "# Balancear con SMOTE\n",
        "smote = SMOTE(random_state=42)\n",
        "independent_variables_resampled, dependent_variables_resampled = smote.fit_resample(independent_variables, dependent_variables)"
      ],
      "metadata": {
        "id": "43qnyH_Pp_tF"
      },
      "execution_count": 124,
      "outputs": []
    },
    {
      "cell_type": "code",
      "source": [
        "# Escalar\n",
        "scaler = StandardScaler()\n",
        "independent_variables_scaled = scaler.fit_transform(independent_variables_resampled)"
      ],
      "metadata": {
        "id": "MmDVRiJ5qF3d"
      },
      "execution_count": 125,
      "outputs": []
    },
    {
      "cell_type": "code",
      "source": [
        "# Splitting dataset into training and testing\n",
        "train_set, test_set, train_target, test_target = train_test_split(independent_variables_scaled,\n",
        "                                                                  dependent_variables_resampled,\n",
        "                                                                  test_size=0.2,\n",
        "                                                                  random_state=42)\n",
        "\n",
        "# Codificar etiquetas\n",
        "num_classes = len(np.unique(dependent_variables_resampled))\n",
        "train_target_cat = tf.keras.utils.to_categorical(train_target - 1, num_classes)  # clases van de 1 a 6\n",
        "test_target_cat = tf.keras.utils.to_categorical(test_target - 1, num_classes)"
      ],
      "metadata": {
        "id": "Uwi_Q0vVLD2Q"
      },
      "execution_count": 126,
      "outputs": []
    },
    {
      "cell_type": "code",
      "source": [
        "train_target_cat, test_target_cat"
      ],
      "metadata": {
        "colab": {
          "base_uri": "https://localhost:8080/"
        },
        "id": "i97vJMSQ_bsh",
        "outputId": "d87cfcf2-f518-4660-f89f-b6c46b68fa83"
      },
      "execution_count": 127,
      "outputs": [
        {
          "output_type": "execute_result",
          "data": {
            "text/plain": [
              "(array([[1., 0., 0., 0., 0., 0.],\n",
              "        [0., 1., 0., 0., 0., 0.],\n",
              "        [0., 1., 0., 0., 0., 0.],\n",
              "        ...,\n",
              "        [0., 1., 0., 0., 0., 0.],\n",
              "        [0., 0., 1., 0., 0., 0.],\n",
              "        [0., 0., 0., 1., 0., 0.]]),\n",
              " array([[0., 0., 0., 0., 0., 1.],\n",
              "        [0., 0., 1., 0., 0., 0.],\n",
              "        [0., 0., 0., 0., 0., 1.],\n",
              "        [0., 0., 0., 0., 0., 1.],\n",
              "        [0., 0., 0., 1., 0., 0.],\n",
              "        [0., 1., 0., 0., 0., 0.],\n",
              "        [0., 1., 0., 0., 0., 0.],\n",
              "        [0., 0., 1., 0., 0., 0.],\n",
              "        [0., 0., 0., 0., 1., 0.],\n",
              "        [0., 0., 1., 0., 0., 0.],\n",
              "        [1., 0., 0., 0., 0., 0.],\n",
              "        [1., 0., 0., 0., 0., 0.],\n",
              "        [0., 0., 0., 1., 0., 0.],\n",
              "        [0., 0., 0., 0., 1., 0.],\n",
              "        [0., 0., 1., 0., 0., 0.],\n",
              "        [0., 0., 0., 1., 0., 0.],\n",
              "        [0., 0., 0., 1., 0., 0.],\n",
              "        [0., 0., 0., 1., 0., 0.],\n",
              "        [0., 0., 1., 0., 0., 0.],\n",
              "        [0., 1., 0., 0., 0., 0.],\n",
              "        [0., 0., 1., 0., 0., 0.],\n",
              "        [0., 0., 0., 1., 0., 0.],\n",
              "        [0., 0., 1., 0., 0., 0.],\n",
              "        [0., 0., 0., 1., 0., 0.],\n",
              "        [0., 0., 0., 0., 1., 0.],\n",
              "        [0., 0., 0., 0., 0., 1.],\n",
              "        [0., 0., 0., 0., 1., 0.],\n",
              "        [0., 0., 0., 1., 0., 0.],\n",
              "        [1., 0., 0., 0., 0., 0.],\n",
              "        [1., 0., 0., 0., 0., 0.],\n",
              "        [1., 0., 0., 0., 0., 0.],\n",
              "        [0., 0., 0., 0., 1., 0.],\n",
              "        [0., 0., 0., 1., 0., 0.],\n",
              "        [1., 0., 0., 0., 0., 0.],\n",
              "        [0., 1., 0., 0., 0., 0.],\n",
              "        [1., 0., 0., 0., 0., 0.],\n",
              "        [0., 1., 0., 0., 0., 0.],\n",
              "        [0., 0., 1., 0., 0., 0.],\n",
              "        [1., 0., 0., 0., 0., 0.],\n",
              "        [0., 0., 0., 0., 0., 1.],\n",
              "        [0., 0., 0., 0., 1., 0.],\n",
              "        [0., 0., 1., 0., 0., 0.],\n",
              "        [0., 1., 0., 0., 0., 0.],\n",
              "        [0., 0., 1., 0., 0., 0.],\n",
              "        [0., 0., 0., 0., 1., 0.],\n",
              "        [0., 0., 0., 0., 1., 0.],\n",
              "        [0., 1., 0., 0., 0., 0.],\n",
              "        [0., 0., 0., 0., 0., 1.],\n",
              "        [0., 1., 0., 0., 0., 0.],\n",
              "        [0., 0., 0., 1., 0., 0.],\n",
              "        [0., 0., 0., 0., 0., 1.],\n",
              "        [1., 0., 0., 0., 0., 0.],\n",
              "        [0., 1., 0., 0., 0., 0.],\n",
              "        [0., 0., 0., 0., 0., 1.],\n",
              "        [0., 1., 0., 0., 0., 0.],\n",
              "        [0., 0., 0., 0., 0., 1.],\n",
              "        [0., 0., 1., 0., 0., 0.],\n",
              "        [0., 1., 0., 0., 0., 0.],\n",
              "        [0., 0., 1., 0., 0., 0.],\n",
              "        [0., 1., 0., 0., 0., 0.],\n",
              "        [0., 0., 0., 1., 0., 0.],\n",
              "        [1., 0., 0., 0., 0., 0.],\n",
              "        [0., 0., 1., 0., 0., 0.],\n",
              "        [0., 0., 1., 0., 0., 0.],\n",
              "        [0., 0., 0., 0., 0., 1.],\n",
              "        [0., 0., 0., 0., 0., 1.],\n",
              "        [0., 0., 0., 0., 1., 0.],\n",
              "        [1., 0., 0., 0., 0., 0.],\n",
              "        [0., 1., 0., 0., 0., 0.],\n",
              "        [0., 1., 0., 0., 0., 0.],\n",
              "        [1., 0., 0., 0., 0., 0.],\n",
              "        [0., 0., 0., 0., 1., 0.],\n",
              "        [0., 0., 0., 0., 1., 0.],\n",
              "        [0., 0., 0., 1., 0., 0.],\n",
              "        [0., 1., 0., 0., 0., 0.],\n",
              "        [0., 0., 0., 1., 0., 0.],\n",
              "        [0., 0., 0., 0., 1., 0.],\n",
              "        [0., 1., 0., 0., 0., 0.],\n",
              "        [0., 0., 0., 0., 0., 1.],\n",
              "        [0., 0., 0., 1., 0., 0.],\n",
              "        [0., 0., 1., 0., 0., 0.],\n",
              "        [1., 0., 0., 0., 0., 0.],\n",
              "        [0., 0., 0., 1., 0., 0.],\n",
              "        [1., 0., 0., 0., 0., 0.],\n",
              "        [0., 1., 0., 0., 0., 0.],\n",
              "        [1., 0., 0., 0., 0., 0.],\n",
              "        [1., 0., 0., 0., 0., 0.],\n",
              "        [0., 0., 1., 0., 0., 0.],\n",
              "        [0., 1., 0., 0., 0., 0.],\n",
              "        [0., 0., 0., 0., 0., 1.],\n",
              "        [0., 0., 0., 0., 0., 1.],\n",
              "        [0., 0., 0., 0., 1., 0.],\n",
              "        [0., 0., 0., 0., 1., 0.],\n",
              "        [0., 0., 0., 0., 0., 1.],\n",
              "        [0., 0., 1., 0., 0., 0.],\n",
              "        [0., 0., 1., 0., 0., 0.],\n",
              "        [1., 0., 0., 0., 0., 0.],\n",
              "        [0., 0., 0., 0., 1., 0.],\n",
              "        [0., 0., 0., 1., 0., 0.],\n",
              "        [0., 0., 0., 0., 0., 1.],\n",
              "        [0., 1., 0., 0., 0., 0.],\n",
              "        [0., 0., 0., 0., 1., 0.],\n",
              "        [0., 0., 0., 0., 1., 0.],\n",
              "        [0., 0., 0., 1., 0., 0.],\n",
              "        [0., 0., 0., 0., 0., 1.],\n",
              "        [0., 0., 1., 0., 0., 0.],\n",
              "        [0., 1., 0., 0., 0., 0.],\n",
              "        [0., 0., 1., 0., 0., 0.],\n",
              "        [0., 0., 0., 1., 0., 0.],\n",
              "        [0., 0., 0., 0., 1., 0.],\n",
              "        [0., 0., 0., 0., 1., 0.],\n",
              "        [0., 0., 0., 0., 0., 1.],\n",
              "        [1., 0., 0., 0., 0., 0.],\n",
              "        [0., 0., 0., 0., 0., 1.],\n",
              "        [0., 1., 0., 0., 0., 0.],\n",
              "        [0., 0., 0., 1., 0., 0.],\n",
              "        [1., 0., 0., 0., 0., 0.],\n",
              "        [0., 0., 1., 0., 0., 0.],\n",
              "        [0., 0., 0., 0., 1., 0.],\n",
              "        [0., 1., 0., 0., 0., 0.],\n",
              "        [0., 0., 0., 1., 0., 0.],\n",
              "        [0., 0., 0., 0., 0., 1.],\n",
              "        [0., 0., 1., 0., 0., 0.],\n",
              "        [0., 0., 0., 0., 0., 1.],\n",
              "        [0., 0., 1., 0., 0., 0.],\n",
              "        [0., 0., 0., 0., 0., 1.],\n",
              "        [1., 0., 0., 0., 0., 0.],\n",
              "        [0., 0., 0., 0., 0., 1.],\n",
              "        [0., 0., 0., 1., 0., 0.],\n",
              "        [0., 0., 0., 0., 1., 0.],\n",
              "        [0., 0., 1., 0., 0., 0.],\n",
              "        [0., 0., 0., 1., 0., 0.],\n",
              "        [0., 0., 1., 0., 0., 0.],\n",
              "        [0., 0., 1., 0., 0., 0.]]))"
            ]
          },
          "metadata": {},
          "execution_count": 127
        }
      ]
    },
    {
      "cell_type": "code",
      "source": [
        "# Build your model!\n",
        "model = tf.keras.models.Sequential([\n",
        "          tf.keras.layers.InputLayer(shape=(train_set.shape[1], )),\n",
        "          tf.keras.layers.Dense(units=128, activation='relu', kernel_regularizer=tf.keras.regularizers.l2(0.001)),\n",
        "          tf.keras.layers.BatchNormalization(),\n",
        "          tf.keras.layers.Dropout(rate=0.3),\n",
        "          tf.keras.layers.Dense(units=64, activation='relu', kernel_regularizer=tf.keras.regularizers.l2(0.001)),\n",
        "          tf.keras.layers.BatchNormalization(),\n",
        "          tf.keras.layers.Dropout(rate=0.3),\n",
        "          tf.keras.layers.Dense(units=32, activation='relu'),\n",
        "          tf.keras.layers.Dense(units=16, activation='relu'),\n",
        "          tf.keras.layers.Dense(units=num_classes, activation='softmax')\n",
        "        ])\n",
        "\n",
        "model.compile(loss=tf.keras.losses.CategoricalCrossentropy(), optimizer='adam', metrics=['accuracy'])\n",
        "\n",
        "early_stop = tf.keras.callbacks.EarlyStopping(monitor='val_loss', patience=5, restore_best_weights=True)\n",
        "\n",
        "# Now compile the model!\n",
        "model.fit(train_set,\n",
        "          train_target_cat,\n",
        "          epochs=200,\n",
        "          batch_size = 32,\n",
        "          validation_split=0.1,\n",
        "          callbacks=[early_stop])"
      ],
      "metadata": {
        "colab": {
          "base_uri": "https://localhost:8080/"
        },
        "id": "vbkQSbem_3WP",
        "outputId": "ba68ab67-9950-4ce9-f988-211b5bbdda71"
      },
      "execution_count": 128,
      "outputs": [
        {
          "output_type": "stream",
          "name": "stdout",
          "text": [
            "Epoch 1/200\n",
            "\u001b[1m15/15\u001b[0m \u001b[32m━━━━━━━━━━━━━━━━━━━━\u001b[0m\u001b[37m\u001b[0m \u001b[1m3s\u001b[0m 31ms/step - accuracy: 0.2118 - loss: 2.0571 - val_accuracy: 0.4074 - val_loss: 1.8182\n",
            "Epoch 2/200\n",
            "\u001b[1m15/15\u001b[0m \u001b[32m━━━━━━━━━━━━━━━━━━━━\u001b[0m\u001b[37m\u001b[0m \u001b[1m0s\u001b[0m 9ms/step - accuracy: 0.5378 - loss: 1.4626 - val_accuracy: 0.8148 - val_loss: 1.6028\n",
            "Epoch 3/200\n",
            "\u001b[1m15/15\u001b[0m \u001b[32m━━━━━━━━━━━━━━━━━━━━\u001b[0m\u001b[37m\u001b[0m \u001b[1m0s\u001b[0m 10ms/step - accuracy: 0.8237 - loss: 1.0737 - val_accuracy: 0.9444 - val_loss: 1.3014\n",
            "Epoch 4/200\n",
            "\u001b[1m15/15\u001b[0m \u001b[32m━━━━━━━━━━━━━━━━━━━━\u001b[0m\u001b[37m\u001b[0m \u001b[1m0s\u001b[0m 10ms/step - accuracy: 0.9418 - loss: 0.7441 - val_accuracy: 0.9444 - val_loss: 0.9818\n",
            "Epoch 5/200\n",
            "\u001b[1m15/15\u001b[0m \u001b[32m━━━━━━━━━━━━━━━━━━━━\u001b[0m\u001b[37m\u001b[0m \u001b[1m0s\u001b[0m 8ms/step - accuracy: 0.9153 - loss: 0.5604 - val_accuracy: 0.9630 - val_loss: 0.7223\n",
            "Epoch 6/200\n",
            "\u001b[1m15/15\u001b[0m \u001b[32m━━━━━━━━━━━━━━━━━━━━\u001b[0m\u001b[37m\u001b[0m \u001b[1m0s\u001b[0m 10ms/step - accuracy: 0.9593 - loss: 0.3675 - val_accuracy: 0.9630 - val_loss: 0.5280\n",
            "Epoch 7/200\n",
            "\u001b[1m15/15\u001b[0m \u001b[32m━━━━━━━━━━━━━━━━━━━━\u001b[0m\u001b[37m\u001b[0m \u001b[1m0s\u001b[0m 9ms/step - accuracy: 0.9820 - loss: 0.2788 - val_accuracy: 0.9630 - val_loss: 0.3862\n",
            "Epoch 8/200\n",
            "\u001b[1m15/15\u001b[0m \u001b[32m━━━━━━━━━━━━━━━━━━━━\u001b[0m\u001b[37m\u001b[0m \u001b[1m0s\u001b[0m 9ms/step - accuracy: 0.9629 - loss: 0.2673 - val_accuracy: 0.9815 - val_loss: 0.3185\n",
            "Epoch 9/200\n",
            "\u001b[1m15/15\u001b[0m \u001b[32m━━━━━━━━━━━━━━━━━━━━\u001b[0m\u001b[37m\u001b[0m \u001b[1m0s\u001b[0m 9ms/step - accuracy: 0.9771 - loss: 0.2357 - val_accuracy: 0.9630 - val_loss: 0.2703\n",
            "Epoch 10/200\n",
            "\u001b[1m15/15\u001b[0m \u001b[32m━━━━━━━━━━━━━━━━━━━━\u001b[0m\u001b[37m\u001b[0m \u001b[1m0s\u001b[0m 8ms/step - accuracy: 0.9844 - loss: 0.2044 - val_accuracy: 0.9815 - val_loss: 0.2345\n",
            "Epoch 11/200\n",
            "\u001b[1m15/15\u001b[0m \u001b[32m━━━━━━━━━━━━━━━━━━━━\u001b[0m\u001b[37m\u001b[0m \u001b[1m0s\u001b[0m 11ms/step - accuracy: 0.9830 - loss: 0.2164 - val_accuracy: 0.9815 - val_loss: 0.2110\n",
            "Epoch 12/200\n",
            "\u001b[1m15/15\u001b[0m \u001b[32m━━━━━━━━━━━━━━━━━━━━\u001b[0m\u001b[37m\u001b[0m \u001b[1m0s\u001b[0m 9ms/step - accuracy: 0.9672 - loss: 0.2478 - val_accuracy: 1.0000 - val_loss: 0.1950\n",
            "Epoch 13/200\n",
            "\u001b[1m15/15\u001b[0m \u001b[32m━━━━━━━━━━━━━━━━━━━━\u001b[0m\u001b[37m\u001b[0m \u001b[1m0s\u001b[0m 8ms/step - accuracy: 0.9803 - loss: 0.1885 - val_accuracy: 1.0000 - val_loss: 0.1774\n",
            "Epoch 14/200\n",
            "\u001b[1m15/15\u001b[0m \u001b[32m━━━━━━━━━━━━━━━━━━━━\u001b[0m\u001b[37m\u001b[0m \u001b[1m0s\u001b[0m 8ms/step - accuracy: 0.9931 - loss: 0.1672 - val_accuracy: 1.0000 - val_loss: 0.1713\n",
            "Epoch 15/200\n",
            "\u001b[1m15/15\u001b[0m \u001b[32m━━━━━━━━━━━━━━━━━━━━\u001b[0m\u001b[37m\u001b[0m \u001b[1m0s\u001b[0m 8ms/step - accuracy: 0.9870 - loss: 0.1747 - val_accuracy: 0.9815 - val_loss: 0.1714\n",
            "Epoch 16/200\n",
            "\u001b[1m15/15\u001b[0m \u001b[32m━━━━━━━━━━━━━━━━━━━━\u001b[0m\u001b[37m\u001b[0m \u001b[1m0s\u001b[0m 8ms/step - accuracy: 0.9972 - loss: 0.1546 - val_accuracy: 1.0000 - val_loss: 0.1522\n",
            "Epoch 17/200\n",
            "\u001b[1m15/15\u001b[0m \u001b[32m━━━━━━━━━━━━━━━━━━━━\u001b[0m\u001b[37m\u001b[0m \u001b[1m0s\u001b[0m 8ms/step - accuracy: 0.9807 - loss: 0.1778 - val_accuracy: 1.0000 - val_loss: 0.1523\n",
            "Epoch 18/200\n",
            "\u001b[1m15/15\u001b[0m \u001b[32m━━━━━━━━━━━━━━━━━━━━\u001b[0m\u001b[37m\u001b[0m \u001b[1m0s\u001b[0m 16ms/step - accuracy: 0.9899 - loss: 0.1657 - val_accuracy: 1.0000 - val_loss: 0.1430\n",
            "Epoch 19/200\n",
            "\u001b[1m15/15\u001b[0m \u001b[32m━━━━━━━━━━━━━━━━━━━━\u001b[0m\u001b[37m\u001b[0m \u001b[1m0s\u001b[0m 14ms/step - accuracy: 0.9905 - loss: 0.1544 - val_accuracy: 1.0000 - val_loss: 0.1434\n",
            "Epoch 20/200\n",
            "\u001b[1m15/15\u001b[0m \u001b[32m━━━━━━━━━━━━━━━━━━━━\u001b[0m\u001b[37m\u001b[0m \u001b[1m0s\u001b[0m 13ms/step - accuracy: 0.9925 - loss: 0.1565 - val_accuracy: 1.0000 - val_loss: 0.1411\n",
            "Epoch 21/200\n",
            "\u001b[1m15/15\u001b[0m \u001b[32m━━━━━━━━━━━━━━━━━━━━\u001b[0m\u001b[37m\u001b[0m \u001b[1m0s\u001b[0m 15ms/step - accuracy: 0.9926 - loss: 0.1484 - val_accuracy: 1.0000 - val_loss: 0.1379\n",
            "Epoch 22/200\n",
            "\u001b[1m15/15\u001b[0m \u001b[32m━━━━━━━━━━━━━━━━━━━━\u001b[0m\u001b[37m\u001b[0m \u001b[1m0s\u001b[0m 16ms/step - accuracy: 0.9979 - loss: 0.1378 - val_accuracy: 1.0000 - val_loss: 0.1336\n",
            "Epoch 23/200\n",
            "\u001b[1m15/15\u001b[0m \u001b[32m━━━━━━━━━━━━━━━━━━━━\u001b[0m\u001b[37m\u001b[0m \u001b[1m0s\u001b[0m 16ms/step - accuracy: 0.9991 - loss: 0.1382 - val_accuracy: 1.0000 - val_loss: 0.1313\n",
            "Epoch 24/200\n",
            "\u001b[1m15/15\u001b[0m \u001b[32m━━━━━━━━━━━━━━━━━━━━\u001b[0m\u001b[37m\u001b[0m \u001b[1m0s\u001b[0m 16ms/step - accuracy: 0.9909 - loss: 0.1510 - val_accuracy: 1.0000 - val_loss: 0.1308\n",
            "Epoch 25/200\n",
            "\u001b[1m15/15\u001b[0m \u001b[32m━━━━━━━━━━━━━━━━━━━━\u001b[0m\u001b[37m\u001b[0m \u001b[1m0s\u001b[0m 15ms/step - accuracy: 0.9963 - loss: 0.1475 - val_accuracy: 0.9815 - val_loss: 0.1473\n",
            "Epoch 26/200\n",
            "\u001b[1m15/15\u001b[0m \u001b[32m━━━━━━━━━━━━━━━━━━━━\u001b[0m\u001b[37m\u001b[0m \u001b[1m0s\u001b[0m 8ms/step - accuracy: 0.9861 - loss: 0.1504 - val_accuracy: 1.0000 - val_loss: 0.1322\n",
            "Epoch 27/200\n",
            "\u001b[1m15/15\u001b[0m \u001b[32m━━━━━━━━━━━━━━━━━━━━\u001b[0m\u001b[37m\u001b[0m \u001b[1m0s\u001b[0m 9ms/step - accuracy: 0.9972 - loss: 0.1294 - val_accuracy: 1.0000 - val_loss: 0.1323\n",
            "Epoch 28/200\n",
            "\u001b[1m15/15\u001b[0m \u001b[32m━━━━━━━━━━━━━━━━━━━━\u001b[0m\u001b[37m\u001b[0m \u001b[1m0s\u001b[0m 9ms/step - accuracy: 0.9980 - loss: 0.1299 - val_accuracy: 1.0000 - val_loss: 0.1310\n",
            "Epoch 29/200\n",
            "\u001b[1m15/15\u001b[0m \u001b[32m━━━━━━━━━━━━━━━━━━━━\u001b[0m\u001b[37m\u001b[0m \u001b[1m0s\u001b[0m 8ms/step - accuracy: 0.9997 - loss: 0.1292 - val_accuracy: 1.0000 - val_loss: 0.1279\n",
            "Epoch 30/200\n",
            "\u001b[1m15/15\u001b[0m \u001b[32m━━━━━━━━━━━━━━━━━━━━\u001b[0m\u001b[37m\u001b[0m \u001b[1m0s\u001b[0m 11ms/step - accuracy: 1.0000 - loss: 0.1213 - val_accuracy: 1.0000 - val_loss: 0.1226\n",
            "Epoch 31/200\n",
            "\u001b[1m15/15\u001b[0m \u001b[32m━━━━━━━━━━━━━━━━━━━━\u001b[0m\u001b[37m\u001b[0m \u001b[1m0s\u001b[0m 10ms/step - accuracy: 0.9960 - loss: 0.1243 - val_accuracy: 1.0000 - val_loss: 0.1202\n",
            "Epoch 32/200\n",
            "\u001b[1m15/15\u001b[0m \u001b[32m━━━━━━━━━━━━━━━━━━━━\u001b[0m\u001b[37m\u001b[0m \u001b[1m0s\u001b[0m 10ms/step - accuracy: 0.9976 - loss: 0.1280 - val_accuracy: 1.0000 - val_loss: 0.1219\n",
            "Epoch 33/200\n",
            "\u001b[1m15/15\u001b[0m \u001b[32m━━━━━━━━━━━━━━━━━━━━\u001b[0m\u001b[37m\u001b[0m \u001b[1m0s\u001b[0m 9ms/step - accuracy: 0.9995 - loss: 0.1161 - val_accuracy: 1.0000 - val_loss: 0.1204\n",
            "Epoch 34/200\n",
            "\u001b[1m15/15\u001b[0m \u001b[32m━━━━━━━━━━━━━━━━━━━━\u001b[0m\u001b[37m\u001b[0m \u001b[1m0s\u001b[0m 8ms/step - accuracy: 0.9944 - loss: 0.1332 - val_accuracy: 0.9815 - val_loss: 0.1318\n",
            "Epoch 35/200\n",
            "\u001b[1m15/15\u001b[0m \u001b[32m━━━━━━━━━━━━━━━━━━━━\u001b[0m\u001b[37m\u001b[0m \u001b[1m0s\u001b[0m 8ms/step - accuracy: 0.9993 - loss: 0.1166 - val_accuracy: 1.0000 - val_loss: 0.1218\n",
            "Epoch 36/200\n",
            "\u001b[1m15/15\u001b[0m \u001b[32m━━━━━━━━━━━━━━━━━━━━\u001b[0m\u001b[37m\u001b[0m \u001b[1m0s\u001b[0m 11ms/step - accuracy: 0.9974 - loss: 0.1137 - val_accuracy: 0.9815 - val_loss: 0.1303\n"
          ]
        },
        {
          "output_type": "execute_result",
          "data": {
            "text/plain": [
              "<keras.src.callbacks.history.History at 0x78843b0ccad0>"
            ]
          },
          "metadata": {},
          "execution_count": 128
        }
      ]
    },
    {
      "cell_type": "code",
      "source": [
        "# Evaluate your model\n",
        "loss, accuracy = model.evaluate(x=test_set, y=test_target_cat, batch_size=32)\n",
        "print(f\"Acurracy: {(accuracy * 100):.4f}%\")\n",
        "print(f\"Loss: {loss:.4f}%\")"
      ],
      "metadata": {
        "colab": {
          "base_uri": "https://localhost:8080/"
        },
        "id": "Jr4CASL7A6ZX",
        "outputId": "4d60f51e-1f86-4204-c002-b2d7825f5915"
      },
      "execution_count": 129,
      "outputs": [
        {
          "output_type": "stream",
          "name": "stdout",
          "text": [
            "\u001b[1m5/5\u001b[0m \u001b[32m━━━━━━━━━━━━━━━━━━━━\u001b[0m\u001b[37m\u001b[0m \u001b[1m0s\u001b[0m 8ms/step - accuracy: 0.9867 - loss: 0.1623 \n",
            "Acurracy: 99.2537%\n",
            "Loss: 0.1458%\n"
          ]
        }
      ]
    },
    {
      "cell_type": "code",
      "source": [
        "data_labels = ['psoriasis',\n",
        "               'seboreic dermatitis',\n",
        "               'lichen planus',\n",
        "               'pityriasis rosea',\n",
        "               'cronic dermatitis',\n",
        "               'pityriasis rubra pilaris']\n",
        "\n",
        "# Function that plots confusion matrix\n",
        "# The confusion_matrix function in TensorFlow expects numerical labels (class indices), not string names.\n",
        "# We will pass the true numerical labels (test_target) to the function.\n",
        "def plot_confusion_matrix(true_labels, predictions, class_names):\n",
        "  figure = plt.figure(figsize=(6, 6)) # Increased figure size for better readability\n",
        "  # Use the true numerical labels for the confusion matrix calculation\n",
        "  cm = confusion_matrix(labels=true_labels, predictions=predictions)\n",
        "  # Use the class names for the heatmap annotations for clarity\n",
        "  sns.heatmap(cm, annot=True, cmap=plt.cm.Blues, fmt='d', xticklabels=class_names, yticklabels=class_names)\n",
        "  plt.tight_layout()\n",
        "  plt.ylabel('True label')\n",
        "  plt.xlabel('Predicted label')\n",
        "  plt.show()\n",
        "\n",
        "# Confusion Matrix\n",
        "# Get the predicted class indices\n",
        "predictions = list(map(lambda x: np.argmax(x), model.predict(test_set)))\n",
        "\n",
        "# Plot the confusion matrix using the true numerical test_target and the predicted class indices\n",
        "# The string class_names are passed to the heatmap for labeling the axes.\n",
        "plot_confusion_matrix(true_labels=test_target, predictions=predictions, class_names=data_labels)"
      ],
      "metadata": {
        "colab": {
          "base_uri": "https://localhost:8080/",
          "height": 643
        },
        "id": "2nBQ_H1-BE1U",
        "outputId": "f4e70e9b-0b39-43ee-8d46-7a28722d9e3a"
      },
      "execution_count": 130,
      "outputs": [
        {
          "output_type": "stream",
          "name": "stdout",
          "text": [
            "\u001b[1m5/5\u001b[0m \u001b[32m━━━━━━━━━━━━━━━━━━━━\u001b[0m\u001b[37m\u001b[0m \u001b[1m0s\u001b[0m 28ms/step\n"
          ]
        },
        {
          "output_type": "display_data",
          "data": {
            "text/plain": [
              "<Figure size 600x600 with 2 Axes>"
            ],
            "image/png": "[encoded data removed]"
          },
          "metadata": {}
        }
      ]
    }
  ]
}