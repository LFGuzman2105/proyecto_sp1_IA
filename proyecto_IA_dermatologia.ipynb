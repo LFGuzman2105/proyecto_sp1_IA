{
  "nbformat": 4,
  "nbformat_minor": 0,
  "metadata": {
    "colab": {
      "provenance": [],
      "include_colab_link": true
    },
    "kernelspec": {
      "name": "python3",
      "display_name": "Python 3"
    },
    "language_info": {
      "name": "python"
    }
  },
  "cells": [
    {
      "cell_type": "markdown",
      "metadata": {
        "id": "view-in-github",
        "colab_type": "text"
      },
      "source": [
        "<a href=\"https://colab.research.google.com/github/LFGuzman2105/proyecto_sp1_IA/blob/modelo_3/proyecto_IA_dermatologia.ipynb\" target=\"_parent\"><img src=\"https://colab.research.google.com/assets/colab-badge.svg\" alt=\"Open In Colab\"/></a>"
      ]
    },
    {
      "cell_type": "code",
      "execution_count": 72,
      "metadata": {
        "id": "ryclOeocRYrK"
      },
      "outputs": [],
      "source": [
        "# ----- Libraries ----- #\n",
        "import os\n",
        "\n",
        "# This is the main Library that allows us to work with Neural Networks\n",
        "import tensorflow as tf\n",
        "\n",
        "# For graph plotting\n",
        "import matplotlib.pyplot as plt\n",
        "from tensorflow.math import confusion_matrix\n",
        "\n",
        "# For dataset manipulation\n",
        "import pandas as pd\n",
        "from sklearn.model_selection import train_test_split\n",
        "import numpy as np\n",
        "\n",
        "# For visualizing more complex graphs\n",
        "import seaborn as sns\n",
        "\n",
        "# Global constant for training acceleration\n",
        "AUTOTUNE = tf.data.AUTOTUNE"
      ]
    },
    {
      "cell_type": "code",
      "source": [
        "'''\n",
        "The dataset you are going to use is the following:\n",
        "https://archive.ics.uci.edu/ml/datasets/Dermatology\n",
        "'''\n",
        "\n",
        "# Retrieve the dataset\n",
        "if not os.path.exists(\"dermatology.data\"):\n",
        "  !wget https://archive.ics.uci.edu/ml/machine-learning-databases/dermatology/dermatology.data"
      ],
      "metadata": {
        "id": "S3GTfE6_7dEn"
      },
      "execution_count": 73,
      "outputs": []
    },
    {
      "cell_type": "code",
      "source": [
        "# Retrieve the dataset\n",
        "if not os.path.exists(\"dermatology.names\"):\n",
        "  !wget https://archive.ics.uci.edu/ml/machine-learning-databases/dermatology/dermatology.names"
      ],
      "metadata": {
        "id": "PiD4wZsXLs78"
      },
      "execution_count": 74,
      "outputs": []
    },
    {
      "cell_type": "code",
      "source": [
        "# Loading Dataset and have a glimpse about it\n",
        "column_names = ['erythema',\n",
        "                'scaling',\n",
        "                'definite-borders',\n",
        "                'itching',\n",
        "                'koebner phenomenon',\n",
        "                'polygonal papules',\n",
        "                'follicular papules',\n",
        "                'oral-mucosal involvement',\n",
        "                'knee elbow involvement',\n",
        "                'scalp involvement',\n",
        "                'family history',\n",
        "                'melanin incontinence',\n",
        "                'eosinophils in the infiltrate',\n",
        "                'pnl infiltrate',\n",
        "                'fibrosis of the papillary dermis',\n",
        "                'exocytosis',\n",
        "                'acanthosis',\n",
        "                'hyperkeratosis',\n",
        "                'parakeratosis',\n",
        "                'clubbing of the rete ridges',\n",
        "                'elongation of the rete ridges',\n",
        "                'thinning of the suprapapillary epidermis',\n",
        "                'spongiform pustule',\n",
        "                'munro microabcess',\n",
        "                'focal hypergranulosis',\n",
        "                'disappearance of the granular layer',\n",
        "                'vacuolisation and damage of the basal layer',\n",
        "                'spongiosis',\n",
        "                'saw-tooth appearance of retes',\n",
        "                'follicular horn plug',\n",
        "                'perifollicular parakeratosis',\n",
        "                'inflammatory monoluclear infiltrate',\n",
        "                'band-like infiltrate',\n",
        "                'age',\n",
        "                'class']\n",
        "\n",
        "raw_dataset = pd.read_csv(\"dermatology.data\",\n",
        "                          names=column_names,\n",
        "                          na_values = \"?\",\n",
        "                          comment='\\t',\n",
        "                          sep=\",\",\n",
        "                          skipinitialspace=True)"
      ],
      "metadata": {
        "id": "ZR4_ocEvb5Ou"
      },
      "execution_count": 75,
      "outputs": []
    },
    {
      "cell_type": "code",
      "source": [
        "# Lets make a copy\n",
        "new_dataset = raw_dataset.copy()\n",
        "\n",
        "# Lets check for null values\n",
        "print(new_dataset.isna().sum())\n",
        "\n",
        "# Dropping null rows\n",
        "new_dataset = new_dataset.dropna()"
      ],
      "metadata": {
        "colab": {
          "base_uri": "https://localhost:8080/"
        },
        "id": "PHIK6WtoFyTk",
        "outputId": "52db094b-d4ae-4dcc-a513-c91a9966b042"
      },
      "execution_count": 76,
      "outputs": [
        {
          "output_type": "stream",
          "name": "stdout",
          "text": [
            "erythema                                       0\n",
            "scaling                                        0\n",
            "definite-borders                               0\n",
            "itching                                        0\n",
            "koebner phenomenon                             0\n",
            "polygonal papules                              0\n",
            "follicular papules                             0\n",
            "oral-mucosal involvement                       0\n",
            "knee elbow involvement                         0\n",
            "scalp involvement                              0\n",
            "family history                                 0\n",
            "melanin incontinence                           0\n",
            "eosinophils in the infiltrate                  0\n",
            "pnl infiltrate                                 0\n",
            "fibrosis of the papillary dermis               0\n",
            "exocytosis                                     0\n",
            "acanthosis                                     0\n",
            "hyperkeratosis                                 0\n",
            "parakeratosis                                  0\n",
            "clubbing of the rete ridges                    0\n",
            "elongation of the rete ridges                  0\n",
            "thinning of the suprapapillary epidermis       0\n",
            "spongiform pustule                             0\n",
            "munro microabcess                              0\n",
            "focal hypergranulosis                          0\n",
            "disappearance of the granular layer            0\n",
            "vacuolisation and damage of the basal layer    0\n",
            "spongiosis                                     0\n",
            "saw-tooth appearance of retes                  0\n",
            "follicular horn plug                           0\n",
            "perifollicular parakeratosis                   0\n",
            "inflammatory monoluclear infiltrate            0\n",
            "band-like infiltrate                           0\n",
            "age                                            8\n",
            "class                                          0\n",
            "dtype: int64\n"
          ]
        }
      ]
    },
    {
      "cell_type": "code",
      "source": [
        "# Splitting dataset into training and testing\n",
        "train, test = train_test_split(new_dataset, test_size=0.1)\n",
        "\n",
        "# Sepparating both sets into dependent and independent variables\n",
        "independent_variables = ['erythema',\n",
        "                          'scaling',\n",
        "                          'definite-borders',\n",
        "                          'itching',\n",
        "                          'koebner phenomenon',\n",
        "                          'polygonal papules',\n",
        "                          'follicular papules',\n",
        "                          'oral-mucosal involvement',\n",
        "                          'knee elbow involvement',\n",
        "                          'scalp involvement',\n",
        "                          'family history',\n",
        "                          'melanin incontinence',\n",
        "                          'eosinophils in the infiltrate',\n",
        "                          'pnl infiltrate',\n",
        "                          'fibrosis of the papillary dermis',\n",
        "                          'exocytosis',\n",
        "                          'acanthosis',\n",
        "                          'hyperkeratosis',\n",
        "                          'parakeratosis',\n",
        "                          'clubbing of the rete ridges',\n",
        "                          'elongation of the rete ridges',\n",
        "                          'thinning of the suprapapillary epidermis',\n",
        "                          'spongiform pustule',\n",
        "                          'munro microabcess',\n",
        "                          'focal hypergranulosis',\n",
        "                          'disappearance of the granular layer',\n",
        "                          'vacuolisation and damage of the basal layer',\n",
        "                          'spongiosis',\n",
        "                          'saw-tooth appearance of retes',\n",
        "                          'follicular horn plug',\n",
        "                          'perifollicular parakeratosis',\n",
        "                          'inflammatory monoluclear infiltrate',\n",
        "                          'band-like infiltrate',\n",
        "                          'age']\n",
        "dependent_variables = ['class']\n",
        "\n",
        "train_set = train[independent_variables]\n",
        "train_target = train[dependent_variables]\n",
        "\n",
        "test_set = test[independent_variables]\n",
        "test_target = test[dependent_variables]"
      ],
      "metadata": {
        "id": "Uwi_Q0vVLD2Q"
      },
      "execution_count": 77,
      "outputs": []
    },
    {
      "cell_type": "code",
      "source": [
        "train_target, test_target"
      ],
      "metadata": {
        "colab": {
          "base_uri": "https://localhost:8080/"
        },
        "id": "i97vJMSQ_bsh",
        "outputId": "ac4b0f8b-a817-4887-c327-00739e2e67fd"
      },
      "execution_count": 78,
      "outputs": [
        {
          "output_type": "execute_result",
          "data": {
            "text/plain": [
              "(     class\n",
              " 362      4\n",
              " 65       3\n",
              " 328      4\n",
              " 309      1\n",
              " 258      4\n",
              " ..     ...\n",
              " 356      1\n",
              " 11       2\n",
              " 244      1\n",
              " 60       6\n",
              " 10       1\n",
              " \n",
              " [322 rows x 1 columns],\n",
              "      class\n",
              " 240      6\n",
              " 289      3\n",
              " 214      3\n",
              " 9        4\n",
              " 186      2\n",
              " 153      1\n",
              " 202      5\n",
              " 273      1\n",
              " 69       1\n",
              " 315      3\n",
              " 304      1\n",
              " 283      1\n",
              " 256      4\n",
              " 6        5\n",
              " 44       5\n",
              " 180      1\n",
              " 63       1\n",
              " 12       2\n",
              " 336      1\n",
              " 53       1\n",
              " 246      1\n",
              " 287      3\n",
              " 47       6\n",
              " 272      1\n",
              " 345      4\n",
              " 350      1\n",
              " 56       2\n",
              " 268      6\n",
              " 339      3\n",
              " 195      2\n",
              " 2        3\n",
              " 88       1\n",
              " 90       2\n",
              " 236      1\n",
              " 266      6\n",
              " 116      2)"
            ]
          },
          "metadata": {},
          "execution_count": 78
        }
      ]
    },
    {
      "cell_type": "code",
      "source": [
        "# NNs can't understand strings, we have to ENCODE them!\n",
        "train_target = pd.factorize(train_target['class'])[0]\n",
        "test_target = pd.factorize(test_target['class'])[0]\n",
        "\n",
        "# Convert integer labels to one-hot encoding\n",
        "train_target = tf.keras.utils.to_categorical(train_target)\n",
        "test_target = tf.keras.utils.to_categorical(test_target)\n",
        "\n",
        "train_target, test_target"
      ],
      "metadata": {
        "id": "C5MCD5R4fXsJ",
        "outputId": "1b30fa33-a6f2-4936-d1aa-518b4ba4d8f6",
        "colab": {
          "base_uri": "https://localhost:8080/"
        }
      },
      "execution_count": 79,
      "outputs": [
        {
          "output_type": "execute_result",
          "data": {
            "text/plain": [
              "(array([[1., 0., 0., 0., 0., 0.],\n",
              "        [0., 1., 0., 0., 0., 0.],\n",
              "        [1., 0., 0., 0., 0., 0.],\n",
              "        ...,\n",
              "        [0., 0., 1., 0., 0., 0.],\n",
              "        [0., 0., 0., 0., 0., 1.],\n",
              "        [0., 0., 1., 0., 0., 0.]]),\n",
              " array([[1., 0., 0., 0., 0., 0.],\n",
              "        [0., 1., 0., 0., 0., 0.],\n",
              "        [0., 1., 0., 0., 0., 0.],\n",
              "        [0., 0., 1., 0., 0., 0.],\n",
              "        [0., 0., 0., 1., 0., 0.],\n",
              "        [0., 0., 0., 0., 1., 0.],\n",
              "        [0., 0., 0., 0., 0., 1.],\n",
              "        [0., 0., 0., 0., 1., 0.],\n",
              "        [0., 0., 0., 0., 1., 0.],\n",
              "        [0., 1., 0., 0., 0., 0.],\n",
              "        [0., 0., 0., 0., 1., 0.],\n",
              "        [0., 0., 0., 0., 1., 0.],\n",
              "        [0., 0., 1., 0., 0., 0.],\n",
              "        [0., 0., 0., 0., 0., 1.],\n",
              "        [0., 0., 0., 0., 0., 1.],\n",
              "        [0., 0., 0., 0., 1., 0.],\n",
              "        [0., 0., 0., 0., 1., 0.],\n",
              "        [0., 0., 0., 1., 0., 0.],\n",
              "        [0., 0., 0., 0., 1., 0.],\n",
              "        [0., 0., 0., 0., 1., 0.],\n",
              "        [0., 0., 0., 0., 1., 0.],\n",
              "        [0., 1., 0., 0., 0., 0.],\n",
              "        [1., 0., 0., 0., 0., 0.],\n",
              "        [0., 0., 0., 0., 1., 0.],\n",
              "        [0., 0., 1., 0., 0., 0.],\n",
              "        [0., 0., 0., 0., 1., 0.],\n",
              "        [0., 0., 0., 1., 0., 0.],\n",
              "        [1., 0., 0., 0., 0., 0.],\n",
              "        [0., 1., 0., 0., 0., 0.],\n",
              "        [0., 0., 0., 1., 0., 0.],\n",
              "        [0., 1., 0., 0., 0., 0.],\n",
              "        [0., 0., 0., 0., 1., 0.],\n",
              "        [0., 0., 0., 1., 0., 0.],\n",
              "        [0., 0., 0., 0., 1., 0.],\n",
              "        [1., 0., 0., 0., 0., 0.],\n",
              "        [0., 0., 0., 1., 0., 0.]]))"
            ]
          },
          "metadata": {},
          "execution_count": 79
        }
      ]
    },
    {
      "cell_type": "code",
      "source": [
        "# Build your model!\n",
        "model = tf.keras.models.Sequential([\n",
        "          tf.keras.layers.InputLayer(shape=(len(independent_variables), )),\n",
        "          tf.keras.layers.Dense(units=16, activation='relu'),\n",
        "          tf.keras.layers.Dense(units=16, activation='relu'),\n",
        "          tf.keras.layers.Dense(units=6, activation='softmax')\n",
        "        ])\n",
        "\n",
        "model.compile(loss=tf.keras.losses.CategoricalCrossentropy(), optimizer='adam', metrics=['accuracy'])\n",
        "\n",
        "# Now compile the model!\n",
        "model.fit(train_set,\n",
        "          train_target,\n",
        "          epochs=25,\n",
        "          batch_size = 8,\n",
        "          validation_split=0.1\n",
        "          )"
      ],
      "metadata": {
        "colab": {
          "base_uri": "https://localhost:8080/"
        },
        "id": "vbkQSbem_3WP",
        "outputId": "93f59775-ec87-4829-a60b-6e3c27e7cba8"
      },
      "execution_count": 80,
      "outputs": [
        {
          "output_type": "stream",
          "name": "stdout",
          "text": [
            "Epoch 1/25\n",
            "\u001b[1m37/37\u001b[0m \u001b[32m━━━━━━━━━━━━━━━━━━━━\u001b[0m\u001b[37m\u001b[0m \u001b[1m1s\u001b[0m 6ms/step - accuracy: 0.0889 - loss: 6.4352 - val_accuracy: 0.1515 - val_loss: 2.7075\n",
            "Epoch 2/25\n",
            "\u001b[1m37/37\u001b[0m \u001b[32m━━━━━━━━━━━━━━━━━━━━\u001b[0m\u001b[37m\u001b[0m \u001b[1m0s\u001b[0m 3ms/step - accuracy: 0.2951 - loss: 1.6338 - val_accuracy: 0.4545 - val_loss: 1.2038\n",
            "Epoch 3/25\n",
            "\u001b[1m37/37\u001b[0m \u001b[32m━━━━━━━━━━━━━━━━━━━━\u001b[0m\u001b[37m\u001b[0m \u001b[1m0s\u001b[0m 2ms/step - accuracy: 0.4564 - loss: 1.2542 - val_accuracy: 0.6364 - val_loss: 0.9985\n",
            "Epoch 4/25\n",
            "\u001b[1m37/37\u001b[0m \u001b[32m━━━━━━━━━━━━━━━━━━━━\u001b[0m\u001b[37m\u001b[0m \u001b[1m0s\u001b[0m 2ms/step - accuracy: 0.6649 - loss: 0.9765 - val_accuracy: 0.6667 - val_loss: 0.8723\n",
            "Epoch 5/25\n",
            "\u001b[1m37/37\u001b[0m \u001b[32m━━━━━━━━━━━━━━━━━━━━\u001b[0m\u001b[37m\u001b[0m \u001b[1m0s\u001b[0m 2ms/step - accuracy: 0.7069 - loss: 0.8464 - val_accuracy: 0.6970 - val_loss: 0.7279\n",
            "Epoch 6/25\n",
            "\u001b[1m37/37\u001b[0m \u001b[32m━━━━━━━━━━━━━━━━━━━━\u001b[0m\u001b[37m\u001b[0m \u001b[1m0s\u001b[0m 2ms/step - accuracy: 0.7805 - loss: 0.7792 - val_accuracy: 0.7576 - val_loss: 0.6089\n",
            "Epoch 7/25\n",
            "\u001b[1m37/37\u001b[0m \u001b[32m━━━━━━━━━━━━━━━━━━━━\u001b[0m\u001b[37m\u001b[0m \u001b[1m0s\u001b[0m 3ms/step - accuracy: 0.8378 - loss: 0.6049 - val_accuracy: 0.8485 - val_loss: 0.5064\n",
            "Epoch 8/25\n",
            "\u001b[1m37/37\u001b[0m \u001b[32m━━━━━━━━━━━━━━━━━━━━\u001b[0m\u001b[37m\u001b[0m \u001b[1m0s\u001b[0m 4ms/step - accuracy: 0.8833 - loss: 0.4984 - val_accuracy: 0.8182 - val_loss: 0.4395\n",
            "Epoch 9/25\n",
            "\u001b[1m37/37\u001b[0m \u001b[32m━━━━━━━━━━━━━━━━━━━━\u001b[0m\u001b[37m\u001b[0m \u001b[1m0s\u001b[0m 3ms/step - accuracy: 0.9113 - loss: 0.4417 - val_accuracy: 0.8485 - val_loss: 0.4023\n",
            "Epoch 10/25\n",
            "\u001b[1m37/37\u001b[0m \u001b[32m━━━━━━━━━━━━━━━━━━━━\u001b[0m\u001b[37m\u001b[0m \u001b[1m0s\u001b[0m 3ms/step - accuracy: 0.8699 - loss: 0.4075 - val_accuracy: 0.9697 - val_loss: 0.3319\n",
            "Epoch 11/25\n",
            "\u001b[1m37/37\u001b[0m \u001b[32m━━━━━━━━━━━━━━━━━━━━\u001b[0m\u001b[37m\u001b[0m \u001b[1m0s\u001b[0m 2ms/step - accuracy: 0.9111 - loss: 0.3728 - val_accuracy: 0.9394 - val_loss: 0.2806\n",
            "Epoch 12/25\n",
            "\u001b[1m37/37\u001b[0m \u001b[32m━━━━━━━━━━━━━━━━━━━━\u001b[0m\u001b[37m\u001b[0m \u001b[1m0s\u001b[0m 3ms/step - accuracy: 0.9563 - loss: 0.2745 - val_accuracy: 0.9697 - val_loss: 0.2567\n",
            "Epoch 13/25\n",
            "\u001b[1m37/37\u001b[0m \u001b[32m━━━━━━━━━━━━━━━━━━━━\u001b[0m\u001b[37m\u001b[0m \u001b[1m0s\u001b[0m 2ms/step - accuracy: 0.9591 - loss: 0.2340 - val_accuracy: 0.9697 - val_loss: 0.2261\n",
            "Epoch 14/25\n",
            "\u001b[1m37/37\u001b[0m \u001b[32m━━━━━━━━━━━━━━━━━━━━\u001b[0m\u001b[37m\u001b[0m \u001b[1m0s\u001b[0m 3ms/step - accuracy: 0.9624 - loss: 0.2142 - val_accuracy: 0.9697 - val_loss: 0.2060\n",
            "Epoch 15/25\n",
            "\u001b[1m37/37\u001b[0m \u001b[32m━━━━━━━━━━━━━━━━━━━━\u001b[0m\u001b[37m\u001b[0m \u001b[1m0s\u001b[0m 3ms/step - accuracy: 0.9619 - loss: 0.2078 - val_accuracy: 0.9697 - val_loss: 0.1971\n",
            "Epoch 16/25\n",
            "\u001b[1m37/37\u001b[0m \u001b[32m━━━━━━━━━━━━━━━━━━━━\u001b[0m\u001b[37m\u001b[0m \u001b[1m0s\u001b[0m 2ms/step - accuracy: 0.9762 - loss: 0.1750 - val_accuracy: 1.0000 - val_loss: 0.1780\n",
            "Epoch 17/25\n",
            "\u001b[1m37/37\u001b[0m \u001b[32m━━━━━━━━━━━━━━━━━━━━\u001b[0m\u001b[37m\u001b[0m \u001b[1m0s\u001b[0m 3ms/step - accuracy: 0.9461 - loss: 0.1960 - val_accuracy: 1.0000 - val_loss: 0.1586\n",
            "Epoch 18/25\n",
            "\u001b[1m37/37\u001b[0m \u001b[32m━━━━━━━━━━━━━━━━━━━━\u001b[0m\u001b[37m\u001b[0m \u001b[1m0s\u001b[0m 2ms/step - accuracy: 0.9481 - loss: 0.1618 - val_accuracy: 0.9697 - val_loss: 0.1596\n",
            "Epoch 19/25\n",
            "\u001b[1m37/37\u001b[0m \u001b[32m━━━━━━━━━━━━━━━━━━━━\u001b[0m\u001b[37m\u001b[0m \u001b[1m0s\u001b[0m 3ms/step - accuracy: 0.9469 - loss: 0.1610 - val_accuracy: 1.0000 - val_loss: 0.1537\n",
            "Epoch 20/25\n",
            "\u001b[1m37/37\u001b[0m \u001b[32m━━━━━━━━━━━━━━━━━━━━\u001b[0m\u001b[37m\u001b[0m \u001b[1m0s\u001b[0m 3ms/step - accuracy: 0.9846 - loss: 0.1228 - val_accuracy: 1.0000 - val_loss: 0.1344\n",
            "Epoch 21/25\n",
            "\u001b[1m37/37\u001b[0m \u001b[32m━━━━━━━━━━━━━━━━━━━━\u001b[0m\u001b[37m\u001b[0m \u001b[1m0s\u001b[0m 3ms/step - accuracy: 0.9844 - loss: 0.1244 - val_accuracy: 1.0000 - val_loss: 0.1250\n",
            "Epoch 22/25\n",
            "\u001b[1m37/37\u001b[0m \u001b[32m━━━━━━━━━━━━━━━━━━━━\u001b[0m\u001b[37m\u001b[0m \u001b[1m0s\u001b[0m 3ms/step - accuracy: 0.9649 - loss: 0.1092 - val_accuracy: 1.0000 - val_loss: 0.1239\n",
            "Epoch 23/25\n",
            "\u001b[1m37/37\u001b[0m \u001b[32m━━━━━━━━━━━━━━━━━━━━\u001b[0m\u001b[37m\u001b[0m \u001b[1m0s\u001b[0m 3ms/step - accuracy: 0.9655 - loss: 0.1214 - val_accuracy: 1.0000 - val_loss: 0.1136\n",
            "Epoch 24/25\n",
            "\u001b[1m37/37\u001b[0m \u001b[32m━━━━━━━━━━━━━━━━━━━━\u001b[0m\u001b[37m\u001b[0m \u001b[1m0s\u001b[0m 3ms/step - accuracy: 0.9717 - loss: 0.1107 - val_accuracy: 1.0000 - val_loss: 0.1192\n",
            "Epoch 25/25\n",
            "\u001b[1m37/37\u001b[0m \u001b[32m━━━━━━━━━━━━━━━━━━━━\u001b[0m\u001b[37m\u001b[0m \u001b[1m0s\u001b[0m 2ms/step - accuracy: 0.9884 - loss: 0.0815 - val_accuracy: 1.0000 - val_loss: 0.1050\n"
          ]
        },
        {
          "output_type": "execute_result",
          "data": {
            "text/plain": [
              "<keras.src.callbacks.history.History at 0x7ac3d9fc7dd0>"
            ]
          },
          "metadata": {},
          "execution_count": 80
        }
      ]
    },
    {
      "cell_type": "code",
      "source": [
        "# Evaluate your model\n",
        "loss, accuracy = model.evaluate(x=test_set, y=test_target, batch_size=8)\n",
        "print(f\"Acurracy: {(accuracy * 100):.4f}%\")\n",
        "print(f\"Loss: {loss:.4f}%\")"
      ],
      "metadata": {
        "colab": {
          "base_uri": "https://localhost:8080/"
        },
        "id": "Jr4CASL7A6ZX",
        "outputId": "46b7557b-2d45-4472-8a19-19a5d7666d6d"
      },
      "execution_count": 81,
      "outputs": [
        {
          "output_type": "stream",
          "name": "stdout",
          "text": [
            "\u001b[1m5/5\u001b[0m \u001b[32m━━━━━━━━━━━━━━━━━━━━\u001b[0m\u001b[37m\u001b[0m \u001b[1m0s\u001b[0m 6ms/step - accuracy: 0.1875 - loss: 7.1530 \n",
            "Acurracy: 16.6667%\n",
            "Loss: 7.0377%\n"
          ]
        }
      ]
    },
    {
      "cell_type": "code",
      "source": [
        "data_labels = ['psoriasis',\n",
        "               'seboreic dermatitis',\n",
        "               'lichen planus',\n",
        "               'pityriasis rosea',\n",
        "               'cronic dermatitis',\n",
        "               'pityriasis rubra pilaris']\n",
        "\n",
        "# Function that plots confusion matrix\n",
        "# The confusion_matrix function in TensorFlow expects numerical labels (class indices), not string names.\n",
        "# We will pass the true numerical labels (test_target) to the function.\n",
        "def plot_confusion_matrix(true_labels, predictions, class_names):\n",
        "  figure = plt.figure(figsize=(6, 6)) # Increased figure size for better readability\n",
        "  # Use the true numerical labels for the confusion matrix calculation\n",
        "  cm = confusion_matrix(labels=true_labels, predictions=predictions)\n",
        "  # Use the class names for the heatmap annotations for clarity\n",
        "  sns.heatmap(cm, annot=True, cmap=plt.cm.Blues, fmt='d', xticklabels=class_names, yticklabels=class_names)\n",
        "  plt.tight_layout()\n",
        "  plt.ylabel('True label')\n",
        "  plt.xlabel('Predicted label')\n",
        "  plt.show()\n",
        "\n",
        "# Confusion Matrix\n",
        "# Get the predicted class indices\n",
        "predictions = list(map(lambda x: np.argmax(x), model.predict(test_set)))\n",
        "\n",
        "# Convert the one-hot encoded test_target back to numerical class indices\n",
        "true_test_labels = np.argmax(test_target, axis=1)\n",
        "\n",
        "# Plot the confusion matrix using the true numerical test_target and the predicted class indices\n",
        "# The string class_names are passed to the heatmap for labeling the axes.\n",
        "plot_confusion_matrix(true_labels=true_test_labels, predictions=predictions, class_names=data_labels)"
      ],
      "metadata": {
        "colab": {
          "base_uri": "https://localhost:8080/",
          "height": 643
        },
        "id": "2nBQ_H1-BE1U",
        "outputId": "cee53571-bcb1-4116-aea2-5e9c6c63cd3d"
      },
      "execution_count": 82,
      "outputs": [
        {
          "output_type": "stream",
          "name": "stdout",
          "text": [
            "\u001b[1m2/2\u001b[0m \u001b[32m━━━━━━━━━━━━━━━━━━━━\u001b[0m\u001b[37m\u001b[0m \u001b[1m0s\u001b[0m 36ms/step\n"
          ]
        },
        {
          "output_type": "display_data",
          "data": {
            "text/plain": [
              "<Figure size 600x600 with 2 Axes>"
            ],
            "image/png": "[encoded data removed]"
          },
          "metadata": {}
        }
      ]
    }
  ]
}